{
 "cells": [
  {
   "cell_type": "code",
   "execution_count": 8,
   "metadata": {},
   "outputs": [],
   "source": [
    "import os\n",
    "import sys\n",
    "sys.path.append(os.path.dirname(os.getcwd()))\n",
    "from data_processing.aggregate_logs_to_csv import aggregate_models_to_csv\n",
    "from data_processing.aggr_logs_to_plain_csv import aggregate_logs_to_csv"
   ]
  },
  {
   "cell_type": "code",
   "execution_count": 9,
   "metadata": {},
   "outputs": [],
   "source": [
    "LOGS_DIR = \"_logs/no_reflection\"\n",
    "AGGREGATE_CSV = os.path.join(LOGS_DIR, \"aggregate_models.csv\")\n",
    "REFINED_CSV = \"data_processing/refined.csv\"\n",
    "\n",
    "model_dict = {\n",
    "    \"2025-01-16_alamios-gemma-2-9b-it@f16\": \"gemma-2-9b-it@f16\",\n",
    "    \"2025-01-16_gemma-2-9b-it@iq4_xs\": \"gemma-2-9b-it@iq4_xs\",\n",
    "    \"2025-01-16_gemma-2-9b-it@q4_k_m\": \"gemma-2-9b-it@q4_k_m\",\n",
    "    \"2025-01-16_gemma-2-9b-it@q8_0\": \"gemma-2-9b-it@q8_0\",\n",
    "    \"2025-01-16_meta-llama-3.1-8b-instruct@iq4_xs\": \"meta-llama-3.1-8b-instruct@iq4_xs\",\n",
    "    \"2025-01-16_meta-llama-3.1-8b-instruct@q4_k_m\": \"meta-llama-3.1-8b-instruct@q4_k_m\",\n",
    "    \"2025-01-16_meta-llama-3.1-8b-instruct@q8_0\": \"meta-llama-3.1-8b-instruct@q8_0\",\n",
    "    \"2025-01-16_sanctumai-meta-llama-3.1-8b-instruct@f16\": \"sanctumai-meta-llama-3.1-8b-instruct@f16\",\n",
    "    \"2025-01-17_bartowski-meta-llama-3.1-8b-instruct@f32\": \"bartowski-meta-llama-3.1-8b-instruct@f32\",\n",
    "    \"2025-01-17_meta-llama-3.1-8b-instruct@iq4_xs\": \"meta-llama-3.1-8b-instruct@iq4_xs\",\n",
    "    \"2025-01-17_meta-llama-3.1-8b-instruct@iq4_xs_NOFA\": \"meta-llama-3.1-8b-instruct@iq4_xs_NOFA\",\n",
    "    \"2025-01-17_meta-llama-3.1-8b-instruct@q4_k_m\": \"meta-llama-3.1-8b-instruct@q4_k_m\",\n",
    "    \"2025-01-17_meta-llama-3.1-8b-instruct@q4_k_m_NOFA\": \"meta-llama-3.1-8b-instruct@q4_k_m_NOFA\",\n",
    "    \"2025-01-17_meta-llama-3.1-8b-instruct@q8_0\": \"meta-llama-3.1-8b-instruct@q8_0\",\n",
    "    \"2025-01-17_meta-llama-3.1-8b-instruct@q8_0_NOFA\": \"meta-llama-3.1-8b-instruct@q8_0_NOFA\",\n",
    "    \"2025-01-17_sanctumai-meta-llama-3.1-8b-instruct@f16\": \"sanctumai-meta-llama-3.1-8b-instruct@f16\",\n",
    "    \"2025-01-17_sanctumai-meta-llama-3.1-8b-instruct@f16_NOFA\": \"sanctumai-meta-llama-3.1-8b-instruct@f16_NOFA\",\n",
    "    \"2025-01-18_gemma-2-9b-it@iq4_xs\": \"gemma-2-9b-it@iq4_xs\",\n",
    "    \"2025-01-18_gemma-2-9b-it@iq4_xs_NOFA\": \"gemma-2-9b-it@iq4_xs_NOFA\",\n",
    "    \"2025-01-18_gemma-2-9b-it@q4_k_m\": \"gemma-2-9b-it@q4_k_m\",\n",
    "    \"2025-01-18_gemma-2-9b-it@q4_k_m_NOFA\": \"gemma-2-9b-it@q4_k_m_NOFA\",\n",
    "    \"2025-01-19_bartowski-gemma-2-9b-it@f32\": \"gemma-2-9b-it@f32\",\n",
    "    \"2025-01-20_gemma-2-9b-it@f16\": \"gemma-2-9b-it@f16\",\n",
    "    \"2025-01-20_gemma-2-9b-it@f16_NOFA\": \"gemma-2-9b-it@f16_NOFA\",\n",
    "    \"2025-01-20_gemma-2-9b-it@q8_0\": \"gemma-2-9b-it@q8_0\",\n",
    "    \"2025-01-20_gemma-2-9b-it@q8_0_NOFA\": \"gemma-2-9b-it@q8_0_NOFA\",\n",
    "    \"temp001/2025-01-18_meta-llama-3.1-8b-instruct@iq4_xs\" : \"meta-llama-3.1-8b-instruct@iq4_xs|t001\",\n",
    "    \"temp001/2025-01-18_meta-llama-3.1-8b-instruct@q8_0\": \"meta-llama-3.1-8b-instruct@q8_0|t001\",\n",
    "    \"temp001/2025-01-18_meta-llama-3.1-8b-instruct@q4_k_m\": \"meta-llama-3.1-8b-instruct@q4_k_m|t001\",\n",
    "}\n",
    "\n",
    "aggregate_models_to_csv(\"../_logs/quantization_research\",\"aggr.csv\",model_dict)"
   ]
  }
 ],
 "metadata": {
  "kernelspec": {
   "display_name": ".venv",
   "language": "python",
   "name": "python3"
  },
  "language_info": {
   "codemirror_mode": {
    "name": "ipython",
    "version": 3
   },
   "file_extension": ".py",
   "mimetype": "text/x-python",
   "name": "python",
   "nbconvert_exporter": "python",
   "pygments_lexer": "ipython3",
   "version": "3.12.8"
  }
 },
 "nbformat": 4,
 "nbformat_minor": 2
}
