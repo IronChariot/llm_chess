{
 "cells": [
  {
   "cell_type": "code",
   "execution_count": null,
   "metadata": {},
   "outputs": [],
   "source": [
    "# !pip install pandas"
   ]
  },
  {
   "cell_type": "code",
   "execution_count": 14,
   "metadata": {},
   "outputs": [],
   "source": [
    "import os\n",
    "import sys\n",
    "import csv\n",
    "import pandas as pd\n",
    "sys.path.append(os.path.dirname(os.getcwd()))\n",
    "from data_processing.aggregate_logs_to_csv import aggregate_models_to_csv\n",
    "from data_processing.aggr_logs_to_plain_csv import aggregate_logs_to_csv"
   ]
  },
  {
   "cell_type": "code",
   "execution_count": null,
   "metadata": {},
   "outputs": [],
   "source": [
    "LOGS_DIR = \"_logs/no_reflection\"\n",
    "AGGREGATE_CSV = os.path.join(LOGS_DIR, \"aggregate_models.csv\")\n",
    "REFINED_CSV = \"data_processing/refined.csv\"\n",
    "\n",
    "model_dict = {\n",
    "    \"2025-01-16_alamios-gemma-2-9b-it@f16\": \"gemma-2-9b-it@f16\",\n",
    "    \"2025-01-16_gemma-2-9b-it@iq4_xs\": \"gemma-2-9b-it@iq4_xs\",\n",
    "    \"2025-01-16_gemma-2-9b-it@q4_k_m\": \"gemma-2-9b-it@q4_k_m\",\n",
    "    \"2025-01-16_gemma-2-9b-it@q8_0\": \"gemma-2-9b-it@q8_0\",\n",
    "    \"2025-01-16_meta-llama-3.1-8b-instruct@iq4_xs\": \"meta-llama-3.1-8b-instruct@iq4_xs\",\n",
    "    \"2025-01-16_meta-llama-3.1-8b-instruct@q4_k_m\": \"meta-llama-3.1-8b-instruct@q4_k_m\",\n",
    "    \"2025-01-16_meta-llama-3.1-8b-instruct@q8_0\": \"meta-llama-3.1-8b-instruct@q8_0\",\n",
    "    \"2025-01-16_sanctumai-meta-llama-3.1-8b-instruct@f16\": \"meta-llama-3.1-8b-instruct@f16\",\n",
    "    \"2025-01-17_bartowski-meta-llama-3.1-8b-instruct@f32\": \"meta-llama-3.1-8b-instruct@f32\",\n",
    "    \"2025-01-17_bartowski-meta-llama-3.1-8b-instruct@f32_2\": \"meta-llama-3.1-8b-instruct@f32\",\n",
    "    \"2025-01-17_meta-llama-3.1-8b-instruct@iq4_xs\": \"meta-llama-3.1-8b-instruct@iq4_xs\",\n",
    "    \"2025-01-17_meta-llama-3.1-8b-instruct@iq4_xs_NOFA\": \"meta-llama-3.1-8b-instruct@iq4_xs|NOFA\",\n",
    "    \"2025-01-17_meta-llama-3.1-8b-instruct@q4_k_m\": \"meta-llama-3.1-8b-instruct@q4_k_m\",\n",
    "    \"2025-01-17_meta-llama-3.1-8b-instruct@q4_k_m_NOFA\": \"meta-llama-3.1-8b-instruct@q4_k_m|NOFA\",\n",
    "    \"2025-01-17_meta-llama-3.1-8b-instruct@q8_0\": \"meta-llama-3.1-8b-instruct@q8_0\",\n",
    "    \"2025-01-17_meta-llama-3.1-8b-instruct@q8_0_NOFA\": \"meta-llama-3.1-8b-instruct@q8_0|NOFA\",\n",
    "    \"2025-01-17_sanctumai-meta-llama-3.1-8b-instruct@f16\": \"meta-llama-3.1-8b-instruct@f16\",\n",
    "    \"2025-01-17_sanctumai-meta-llama-3.1-8b-instruct@f16_NOFA\": \"meta-llama-3.1-8b-instruct@f16|NOFA\",\n",
    "    \"2025-01-18_gemma-2-9b-it@iq4_xs\": \"gemma-2-9b-it@iq4_xs\",\n",
    "    \"2025-01-18_gemma-2-9b-it@iq4_xs_NOFA\": \"gemma-2-9b-it@iq4_xs|NOFA\",\n",
    "    \"2025-01-18_gemma-2-9b-it@q4_k_m\": \"gemma-2-9b-it@q4_k_m\",\n",
    "    \"2025-01-18_gemma-2-9b-it@q4_k_m_NOFA\": \"gemma-2-9b-it@q4_k_m|NOFA\",\n",
    "    \"2025-01-19_bartowski-gemma-2-9b-it@f32\": \"gemma-2-9b-it@f32\",\n",
    "    \"2025-01-20_gemma-2-9b-it@f16\": \"gemma-2-9b-it@f16\",\n",
    "    \"2025-01-20_gemma-2-9b-it@f16_NOFA\": \"gemma-2-9b-it@f16|NOFA\",\n",
    "    \"2025-01-20_gemma-2-9b-it@q8_0\": \"gemma-2-9b-it@q8_0\",\n",
    "    \"2025-01-20_gemma-2-9b-it@q8_0_NOFA\": \"gemma-2-9b-it@q8_0|NOFA\",\n",
    "    \"temp001/2025-01-18_meta-llama-3.1-8b-instruct@iq4_xs\" : \"meta-llama-3.1-8b-instruct@iq4_xs|t001\",\n",
    "    \"temp001/2025-01-18_meta-llama-3.1-8b-instruct@q8_0\": \"meta-llama-3.1-8b-instruct@q8_0|t001\",\n",
    "    \"temp001/2025-01-18_meta-llama-3.1-8b-instruct@q4_k_m\": \"meta-llama-3.1-8b-instruct@q4_k_m|t001\",\n",
    "}\n",
    "\n",
    "aggregate_models_to_csv(\"../_logs/quantization_research\",\"aggr.csv\",model_dict)"
   ]
  },
  {
   "cell_type": "code",
   "execution_count": 15,
   "metadata": {},
   "outputs": [
    {
     "name": "stdout",
     "output_type": "stream",
     "text": [
      "Model: gemma-2-9b-it@f16, Average Moves: 62.72857142857143, Std Dev Moves: 59.68127761667962\n",
      "Model: gemma-2-9b-it@f16|NOFA, Average Moves: 58.8, Std Dev Moves: 59.06862836686542\n",
      "Model: gemma-2-9b-it@f32, Average Moves: 57.34285714285714, Std Dev Moves: 54.33806498323665\n",
      "Model: gemma-2-9b-it@iq4_xs, Average Moves: 80.43571428571428, Std Dev Moves: 73.46750600623048\n",
      "Model: gemma-2-9b-it@iq4_xs|NOFA, Average Moves: 80.54285714285714, Std Dev Moves: 67.23852758528204\n",
      "Model: gemma-2-9b-it@q4_k_m, Average Moves: 53.32857142857143, Std Dev Moves: 49.50576342452359\n",
      "Model: gemma-2-9b-it@q4_k_m|NOFA, Average Moves: 42.542857142857144, Std Dev Moves: 43.6134598209202\n",
      "Model: gemma-2-9b-it@q8_0, Average Moves: 58.75714285714286, Std Dev Moves: 57.996412626567\n",
      "Model: gemma-2-9b-it@q8_0|NOFA, Average Moves: 69.97142857142858, Std Dev Moves: 65.3968045153303\n",
      "Model: meta-llama-3.1-8b-instruct@f16, Average Moves: 6.985714285714286, Std Dev Moves: 4.638327460696696\n",
      "Model: meta-llama-3.1-8b-instruct@f16|NOFA, Average Moves: 7.485714285714286, Std Dev Moves: 6.285454540087789\n",
      "Model: meta-llama-3.1-8b-instruct@f32, Average Moves: 24.271428571428572, Std Dev Moves: 18.061736531424998\n",
      "Model: meta-llama-3.1-8b-instruct@iq4_xs, Average Moves: 18.65714285714286, Std Dev Moves: 14.361541614709068\n",
      "Model: meta-llama-3.1-8b-instruct@iq4_xs|NOFA, Average Moves: 16.457142857142856, Std Dev Moves: 11.569276695857274\n",
      "Model: meta-llama-3.1-8b-instruct@iq4_xs|t001, Average Moves: 18.914285714285715, Std Dev Moves: 11.025610261235114\n",
      "Model: meta-llama-3.1-8b-instruct@q4_k_m, Average Moves: 16.37142857142857, Std Dev Moves: 12.521035361766707\n",
      "Model: meta-llama-3.1-8b-instruct@q4_k_m|NOFA, Average Moves: 21.428571428571427, Std Dev Moves: 15.773912847819728\n",
      "Model: meta-llama-3.1-8b-instruct@q4_k_m|t001, Average Moves: 20.542857142857144, Std Dev Moves: 16.17377570044061\n",
      "Model: meta-llama-3.1-8b-instruct@q8_0, Average Moves: 23.02, Std Dev Moves: 21.980740054268722\n",
      "Model: meta-llama-3.1-8b-instruct@q8_0|NOFA, Average Moves: 19.17142857142857, Std Dev Moves: 13.50340848883446\n",
      "Model: meta-llama-3.1-8b-instruct@q8_0|t001, Average Moves: 24.34285714285714, Std Dev Moves: 19.048723777487574\n",
      "Model: qwen2.5-14b-instruct-1m@q4_k_m, Average Moves: 4.428571428571429, Std Dev Moves: 2.886280001125663\n",
      "Model: qwen2.5-14b-instruct-1m@q8_0, Average Moves: 9.514285714285714, Std Dev Moves: 5.620734210156578\n",
      "Model: qwen2.5-7b-instruct-1m@q4_k_m, Average Moves: 10.4, Std Dev Moves: 7.720843773282073\n",
      "Model: qwen2.5-7b-instruct-1m@q8_0, Average Moves: 13.857142857142858, Std Dev Moves: 9.192055132070326\n"
     ]
    }
   ],
   "source": [
    "csv_file_path = \"aggr.csv\"\n",
    "\n",
    "# Read the CSV file into a DataFrame\n",
    "df = pd.read_csv(csv_file_path)\n",
    "\n",
    "# Select the required columns\n",
    "selected_columns = df[[\"model_name\", \"average_moves\", \"std_dev_moves\"]]\n",
    "\n",
    "# Print the DataFrame as a properly tabbed table with headers\n",
    "print(selected_columns.to_string(index=False))\n"
   ]
  }
 ],
 "metadata": {
  "kernelspec": {
   "display_name": ".venv",
   "language": "python",
   "name": "python3"
  },
  "language_info": {
   "codemirror_mode": {
    "name": "ipython",
    "version": 3
   },
   "file_extension": ".py",
   "mimetype": "text/x-python",
   "name": "python",
   "nbconvert_exporter": "python",
   "pygments_lexer": "ipython3",
   "version": "3.12.8"
  }
 },
 "nbformat": 4,
 "nbformat_minor": 2
}
